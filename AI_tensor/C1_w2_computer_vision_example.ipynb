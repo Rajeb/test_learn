{
 "cells": [
  {
   "cell_type": "markdown",
   "id": "f769f162",
   "metadata": {},
   "source": [
    "### Computer Vision"
   ]
  },
  {
   "cell_type": "code",
   "execution_count": 3,
   "id": "f18016ce",
   "metadata": {},
   "outputs": [
    {
     "name": "stdout",
     "output_type": "stream",
     "text": [
      "2.12.0\n"
     ]
    }
   ],
   "source": [
    "import tensorflow as tf\n",
    "print(tf.__version__)"
   ]
  },
  {
   "cell_type": "markdown",
   "id": "25f1ad77",
   "metadata": {},
   "source": [
    "Load the Fashion MNIST dataset: is a collection of grayscale 28*28 pixel clothing images. Each image is associated with \n",
    "a label"
   ]
  },
  {
   "cell_type": "code",
   "execution_count": 7,
   "id": "c3f5edde",
   "metadata": {},
   "outputs": [],
   "source": [
    "## LOad the Fashion MNIST dataset\n",
    "fmist = tf.keras.datasets.fashion_mnist\n",
    "y= fmist.load_data()"
   ]
  },
  {
   "cell_type": "code",
   "execution_count": 15,
   "id": "ffe27c9e",
   "metadata": {},
   "outputs": [
    {
     "data": {
      "text/plain": [
       "2"
      ]
     },
     "execution_count": 15,
     "metadata": {},
     "output_type": "execute_result"
    }
   ],
   "source": [
    "len(y[0])"
   ]
  },
  {
   "cell_type": "code",
   "execution_count": 8,
   "id": "c0632d9f",
   "metadata": {},
   "outputs": [],
   "source": [
    "## Load the training and test split of the fashion mnist dataset\n",
    "(training_images, training_labels), (test_images, test_labels)= fmist.load_data()"
   ]
  },
  {
   "cell_type": "code",
   "execution_count": 54,
   "id": "bac83e18",
   "metadata": {},
   "outputs": [
    {
     "name": "stdout",
     "output_type": "stream",
     "text": [
      "length of i :60000\n",
      "length of i :60000\n",
      "length of i :10000\n",
      "length of i :10000\n"
     ]
    }
   ],
   "source": [
    "x=[training_images, training_labels, test_images, test_labels]\n",
    "for i in x:\n",
    "    \n",
    "    print(f'length of i :{len(i)}')"
   ]
  },
  {
   "cell_type": "markdown",
   "id": "15b7b23d",
   "metadata": {},
   "source": [
    " What do these values look like??"
   ]
  },
  {
   "cell_type": "code",
   "execution_count": 56,
   "id": "ae7bdf83",
   "metadata": {},
   "outputs": [
    {
     "name": "stdout",
     "output_type": "stream",
     "text": [
      "the index is 0\n",
      "LABEL: 9\n",
      "\n",
      "IMAGE: PIXEL ARRAY:\n",
      " [[  0   0   0   0   0   0   0   0   0   0   0   0   0   0   0   0   0   0   0   0   0   0   0   0   0   0   0   0]\n",
      " [  0   0   0   0   0   0   0   0   0   0   0   0   0   0   0   0   0   0   0   0   0   0   0   0   0   0   0   0]\n",
      " [  0   0   0   0   0   0   0   0   0   0   0   0   0   0   0   0   0   0   0   0   0   0   0   0   0   0   0   0]\n",
      " [  0   0   0   0   0   0   0   0   0   0   0   0   1   0   0  13  73   0   0   1   4   0   0   0   0   1   1   0]\n",
      " [  0   0   0   0   0   0   0   0   0   0   0   0   3   0  36 136 127  62  54   0   0   0   1   3   4   0   0   3]\n",
      " [  0   0   0   0   0   0   0   0   0   0   0   0   6   0 102 204 176 134 144 123  23   0   0   0   0  12  10   0]\n",
      " [  0   0   0   0   0   0   0   0   0   0   0   0   0   0 155 236 207 178 107 156 161 109  64  23  77 130  72  15]\n",
      " [  0   0   0   0   0   0   0   0   0   0   0   1   0  69 207 223 218 216 216 163 127 121 122 146 141  88 172  66]\n",
      " [  0   0   0   0   0   0   0   0   0   1   1   1   0 200 232 232 233 229 223 223 215 213 164 127 123 196 229   0]\n",
      " [  0   0   0   0   0   0   0   0   0   0   0   0   0 183 225 216 223 228 235 227 224 222 224 221 223 245 173   0]\n",
      " [  0   0   0   0   0   0   0   0   0   0   0   0   0 193 228 218 213 198 180 212 210 211 213 223 220 243 202   0]\n",
      " [  0   0   0   0   0   0   0   0   0   1   3   0  12 219 220 212 218 192 169 227 208 218 224 212 226 197 209  52]\n",
      " [  0   0   0   0   0   0   0   0   0   0   6   0  99 244 222 220 218 203 198 221 215 213 222 220 245 119 167  56]\n",
      " [  0   0   0   0   0   0   0   0   0   4   0   0  55 236 228 230 228 240 232 213 218 223 234 217 217 209  92   0]\n",
      " [  0   0   1   4   6   7   2   0   0   0   0   0 237 226 217 223 222 219 222 221 216 223 229 215 218 255  77   0]\n",
      " [  0   3   0   0   0   0   0   0   0  62 145 204 228 207 213 221 218 208 211 218 224 223 219 215 224 244 159   0]\n",
      " [  0   0   0   0  18  44  82 107 189 228 220 222 217 226 200 205 211 230 224 234 176 188 250 248 233 238 215   0]\n",
      " [  0  57 187 208 224 221 224 208 204 214 208 209 200 159 245 193 206 223 255 255 221 234 221 211 220 232 246   0]\n",
      " [  3 202 228 224 221 211 211 214 205 205 205 220 240  80 150 255 229 221 188 154 191 210 204 209 222 228 225   0]\n",
      " [ 98 233 198 210 222 229 229 234 249 220 194 215 217 241  65  73 106 117 168 219 221 215 217 223 223 224 229  29]\n",
      " [ 75 204 212 204 193 205 211 225 216 185 197 206 198 213 240 195 227 245 239 223 218 212 209 222 220 221 230  67]\n",
      " [ 48 203 183 194 213 197 185 190 194 192 202 214 219 221 220 236 225 216 199 206 186 181 177 172 181 205 206 115]\n",
      " [  0 122 219 193 179 171 183 196 204 210 213 207 211 210 200 196 194 191 195 191 198 192 176 156 167 177 210  92]\n",
      " [  0   0  74 189 212 191 175 172 175 181 185 188 189 188 193 198 204 209 210 210 211 188 188 194 192 216 170   0]\n",
      " [  2   0   0   0  66 200 222 237 239 242 246 243 244 221 220 193 191 179 182 182 181 176 166 168  99  58   0   0]\n",
      " [  0   0   0   0   0   0   0  40  61  44  72  41  35   0   0   0   0   0   0   0   0   0   0   0   0   0   0   0]\n",
      " [  0   0   0   0   0   0   0   0   0   0   0   0   0   0   0   0   0   0   0   0   0   0   0   0   0   0   0   0]\n",
      " [  0   0   0   0   0   0   0   0   0   0   0   0   0   0   0   0   0   0   0   0   0   0   0   0   0   0   0   0]]\n",
      "the index is 2\n",
      "LABEL: 0\n",
      "\n",
      "IMAGE: PIXEL ARRAY:\n",
      " [[  0   0   0   0   0   0   0   0   0  22 118  24   0   0   0   0   0  48  88   5   0   0   0   0   0   0   0   0]\n",
      " [  0   0   0   0   0   0   0   0  12 100 212 205 185 179 173 186 193 221 142  85   0   0   0   0   0   0   0   0]\n",
      " [  0   0   0   0   0   0   0   0   0  85  76 199 225 248 255 238 226 157  68  80   0   0   0   0   0   0   0   0]\n",
      " [  0   0   0   0   0   0   0   0   0  91  69  91 201 218 225 209 158  61  93  72   0   0   0   0   0   0   0   0]\n",
      " [  0   0   0   0   0   0   0   0   0  79  89  61  59  87 108  75  56  76  97  73   0   0   0   0   0   0   0   0]\n",
      " [  0   0   0   0   0   0   0   0   0  75  89  80  80  67  63  73  83  80  96  72   0   0   0   0   0   0   0   0]\n",
      " [  0   0   0   0   0   0   0   0   0  77  88  77  80  83  83  83  83  81  95  76   0   0   0   0   0   0   0   0]\n",
      " [  0   0   0   0   0   0   0   0   0  89  96  80  83  81  84  85  85  85  97  84   0   0   0   0   0   0   0   0]\n",
      " [  0   0   0   0   0   0   0   0   0  93  97  81  85  84  85  87  88  84  99  87   0   0   0   0   0   0   0   0]\n",
      " [  0   0   0   0   0   0   0   0   0  95  87  84  87  88  85  87  87  84  92  87   0   0   0   0   0   0   0   0]\n",
      " [  0   0   0   0   0   0   0   0   0  97  87  87  85  88  87  87  87  88  85 107   0   0   0   0   0   0   0   0]\n",
      " [  0   0   0   0   0   0   0   0  17 100  88  87  87  88  87  87  85  89  77 118   8   0   0   0   0   0   0   0]\n",
      " [  0   0   0   0   0   0   0   0  10  93  87  87  87  87  87  88  87  89  80 103   0   0   0   0   0   0   0   0]\n",
      " [  0   0   0   0   0   0   0   0   9  96  87  87  87  87  87  88  87  88  87 103   0   0   0   0   0   0   0   0]\n",
      " [  0   0   0   0   0   0   0   0  12  96  85  87  87  87  85  87  87  88  89 100   2   0   0   0   0   0   0   0]\n",
      " [  0   0   0   0   0   0   0   0  20  95  84  88  85  87  88  88  88  89  88  99   8   0   0   0   0   0   0   0]\n",
      " [  0   0   0   0   0   0   0   0  21  96  85  87  85  88  88  88  88  89  89  99  10   0   0   0   0   0   0   0]\n",
      " [  0   0   0   0   0   0   0   0  24  96  85  87  85  87  88  88  89  88  91 102  14   0   0   0   0   0   0   0]\n",
      " [  0   0   0   0   0   0   0   0  25  93  84  88  87  87  87  87  87  89  91 103  29   0   0   0   0   0   0   0]\n",
      " [  0   0   0   0   0   0   0   0  30  95  85  88  88  87  87  87  87  89  88 102  37   0   0   0   0   0   0   0]\n",
      " [  0   0   0   0   0   0   0   0  34  96  88  87  87  87  87  87  87  85  85  97  38   0   0   0   0   0   0   0]\n",
      " [  0   0   0   0   0   0   0   0  40  96  87  85  87  87  87  87  87  85  84  92  49   0   0   0   0   0   0   0]\n",
      " [  0   0   0   0   0   0   0   0  46  95  83  84  87  87  87  87  87  87  84  87  84   0   0   0   0   0   0   0]\n",
      " [  0   0   0   0   0   0   0   0  72  95  85  84  85  88  87  87  89  87  85  83  63   0   0   0   0   0   0   0]\n",
      " [  0   0   0   0   0   0   0   0  64 100  84  87  88  85  88  88  84  87  83  95  53   0   0   0   0   0   0   0]\n",
      " [  0   0   0   0   0   0   0   0  10 102 100  91  91  89  85  84  84  87 108 106  14   0   0   0   0   0   0   0]\n",
      " [  0   0   0   0   0   0   0   0   0   8  73  93 104 107 103 103 106 102  75  10   0   0   0   0   0   0   0   0]\n",
      " [  0   0   0   0   0   0   0   0   1   0   0   0  18  42  57  56  32   8   0   0   1   0   0   0   0   0   0   0]]\n"
     ]
    },
    {
     "data": {
      "image/png": "[encoded data removed]",
      "text/plain": [
       "<Figure size 432x288 with 1 Axes>"
      ]
     },
     "metadata": {
      "needs_background": "light"
     },
     "output_type": "display_data"
    }
   ],
   "source": [
    "import numpy as np\n",
    "import matplotlib.pyplot as plt\n",
    "index=[0,2]\n",
    "np.set_printoptions(linewidth=320)\n",
    "for i in index:\n",
    "    print(f'the index is {i}')\n",
    "    print(f'LABEL: {training_labels[i]}')\n",
    "    print(f'\\nIMAGE: PIXEL ARRAY:\\n {training_images[i]}')\n",
    "\n",
    "    plt.imshow(training_images[i])"
   ]
  },
  {
   "cell_type": "code",
   "execution_count": 9,
   "id": "bf484743",
   "metadata": {},
   "outputs": [],
   "source": [
    "## notice all the values are between 0 and 255, so scale the values between 0 and 1.\n",
    "\n",
    "# Normalize the pixel values of the training and test images\n",
    "training_images = training_images/255.0\n",
    "test_images = test_images/255.0"
   ]
  },
  {
   "cell_type": "markdown",
   "id": "fc92d65c",
   "metadata": {},
   "source": [
    "### Build the classifiction model\n"
   ]
  },
  {
   "cell_type": "code",
   "execution_count": 107,
   "id": "2734fb66",
   "metadata": {},
   "outputs": [],
   "source": [
    "model = tf.keras.models.Sequential([tf.keras.layers.Flatten(),\n",
    "                                   tf.keras.layers.Dense(128, activation= tf.nn.relu),\n",
    "                                   tf.keras.layers.Dense(10, activation =tf.nn.softmax)])"
   ]
  },
  {
   "cell_type": "markdown",
   "id": "24dce98f",
   "metadata": {},
   "source": [
    " Sequential: define the sequence of layers \n",
    "flatten = our image is 28 * 28 matrix, flatten convert it into one dimensionsl array\n",
    "dense = add layers of neurons\n",
    "Each layer of neurons need an activation function to tell them what to do. There are lot of options. But\n",
    "ReLu : if x>0:\n",
    "        return x\n",
    "       else:\n",
    "            return 0\n",
    "it means, it only passes the value grater than 0 to the next layer\n",
    "softmax : takes a list of values and scales these so that the sum of all elements will be equal to 1. "
   ]
  },
  {
   "cell_type": "code",
   "execution_count": 64,
   "id": "c993be96",
   "metadata": {},
   "outputs": [
    {
     "name": "stdout",
     "output_type": "stream",
     "text": [
      "input to softmax function: [[1. 3. 4. 2.]]\n"
     ]
    }
   ],
   "source": [
    "# Declare sample inputs and convert to a tensor\n",
    "inputs = np.array([[1.0, 3.0, 4.0, 2.0]])\n",
    "inputs = tf.convert_to_tensor(inputs)\n",
    "print (f'input to softmax function: {inputs.numpy()}')"
   ]
  },
  {
   "cell_type": "code",
   "execution_count": 65,
   "id": "652f84a9",
   "metadata": {},
   "outputs": [
    {
     "name": "stdout",
     "output_type": "stream",
     "text": [
      "output of softmax function : [[0.0320586  0.23688282 0.64391426 0.08714432]]\n"
     ]
    }
   ],
   "source": [
    "## feed the inputs to the softmax activation functio\n",
    "outputs = tf.keras.activations.softmax(inputs)\n",
    "print(f'output of softmax function : {outputs.numpy()}')"
   ]
  },
  {
   "cell_type": "code",
   "execution_count": 66,
   "id": "301c6152",
   "metadata": {},
   "outputs": [
    {
     "name": "stdout",
     "output_type": "stream",
     "text": [
      "sum of outputs: 1.0\n"
     ]
    }
   ],
   "source": [
    "# get the sum of all the values after the softmax\n",
    "sum = tf.reduce_sum(outputs)\n",
    "print(f'sum of outputs: {sum}')"
   ]
  },
  {
   "cell_type": "code",
   "execution_count": 67,
   "id": "c82e65b5",
   "metadata": {},
   "outputs": [
    {
     "name": "stdout",
     "output_type": "stream",
     "text": [
      "the class with highest probability : 2\n"
     ]
    }
   ],
   "source": [
    "## get the index with highest value\n",
    "prediction = np.argmax(outputs)\n",
    "print(f'the class with highest probability : {prediction}')"
   ]
  },
  {
   "cell_type": "code",
   "execution_count": 108,
   "id": "0275927c",
   "metadata": {},
   "outputs": [
    {
     "name": "stdout",
     "output_type": "stream",
     "text": [
      "Epoch 1/5\n",
      "1875/1875 [==============================] - 3s 1ms/step - loss: 0.4980 - accuracy: 0.8248\n",
      "Epoch 2/5\n",
      "1875/1875 [==============================] - 2s 1ms/step - loss: 0.3761 - accuracy: 0.8641\n",
      "Epoch 3/5\n",
      "1875/1875 [==============================] - 2s 1ms/step - loss: 0.3361 - accuracy: 0.8779\n",
      "Epoch 4/5\n",
      "1875/1875 [==============================] - 2s 1ms/step - loss: 0.3139 - accuracy: 0.8832\n",
      "Epoch 5/5\n",
      "1875/1875 [==============================] - 2s 1ms/step - loss: 0.2953 - accuracy: 0.8916\n"
     ]
    },
    {
     "data": {
      "text/plain": [
       "<keras.callbacks.History at 0x17bd731cb20>"
      ]
     },
     "execution_count": 108,
     "metadata": {},
     "output_type": "execute_result"
    }
   ],
   "source": [
    "model.compile(optimizer=tf.optimizers.Adam(),\n",
    "             loss = 'sparse_categorical_crossentropy',\n",
    "             metrics = ['accuracy'])\n",
    "model.fit(training_images,training_labels,epochs=5)"
   ]
  },
  {
   "cell_type": "code",
   "execution_count": 109,
   "id": "5c8964f7",
   "metadata": {},
   "outputs": [
    {
     "name": "stdout",
     "output_type": "stream",
     "text": [
      "313/313 [==============================] - 0s 824us/step - loss: 0.3572 - accuracy: 0.8738\n"
     ]
    },
    {
     "data": {
      "text/plain": [
       "[0.3572034537792206, 0.8737999796867371]"
      ]
     },
     "execution_count": 109,
     "metadata": {},
     "output_type": "execute_result"
    }
   ],
   "source": [
    "## evaluate the model\n",
    "model.evaluate(test_images, test_labels)"
   ]
  },
  {
   "cell_type": "code",
   "execution_count": 110,
   "id": "43a29daa",
   "metadata": {},
   "outputs": [
    {
     "name": "stdout",
     "output_type": "stream",
     "text": [
      "313/313 [==============================] - 0s 712us/step\n"
     ]
    }
   ],
   "source": [
    "classifications =model.predict(test_images)"
   ]
  },
  {
   "cell_type": "code",
   "execution_count": 112,
   "id": "241019b1",
   "metadata": {},
   "outputs": [
    {
     "name": "stdout",
     "output_type": "stream",
     "text": [
      "[5.2124478e-06 2.3055108e-08 2.8850113e-07 3.2583733e-07 6.7807696e-07 3.9944309e-03 3.7647328e-06 9.2553450e-03 1.1938173e-05 9.8672801e-01]\n"
     ]
    }
   ],
   "source": [
    "print(classifications[0])"
   ]
  },
  {
   "cell_type": "code",
   "execution_count": 113,
   "id": "f8eb0175",
   "metadata": {},
   "outputs": [
    {
     "name": "stdout",
     "output_type": "stream",
     "text": [
      "9\n"
     ]
    }
   ],
   "source": [
    "print(test_labels[0])"
   ]
  },
  {
   "cell_type": "code",
   "execution_count": 114,
   "id": "e95afb44",
   "metadata": {},
   "outputs": [
    {
     "data": {
      "text/plain": [
       "9"
      ]
     },
     "execution_count": 114,
     "metadata": {},
     "output_type": "execute_result"
    }
   ],
   "source": [
    "np.argmax(classifications[0])"
   ]
  },
  {
   "cell_type": "markdown",
   "id": "41d07561",
   "metadata": {},
   "source": [
    " # Using Callbacks to control Training"
   ]
  },
  {
   "cell_type": "markdown",
   "id": "2f9dac26",
   "metadata": {},
   "source": [
    " We use callbacks api to stop training when specified metric is met. This is useful feature so we don't need \n",
    "    to complete all epochs when threshold is rached. "
   ]
  },
  {
   "cell_type": "markdown",
   "id": "b5875c88",
   "metadata": {},
   "source": [
    "#### Creating a callback class\n",
    "We can create a callback by defining a class that inherits the tf.keras.callbacks.Callback base class. From there we can define available\n",
    "methods to set where the call back will be executed ( example of method = on_epoch_end() to check the loss at each training epoch)"
   ]
  },
  {
   "cell_type": "code",
   "execution_count": 27,
   "id": "9544453e",
   "metadata": {},
   "outputs": [],
   "source": [
    "class myCallback(tf.keras.callbacks.Callback):\n",
    "    def on_epoch_end(self, epoch, logs={}):\n",
    "        '''\n",
    "        Halts the training after reaching 60 percent accuracy\n",
    "        Args:\n",
    "        epoch(integer)-index of epoch (required but not used in the function definition below)\n",
    "        logs (dict)-metric result from the training epoch\n",
    "        \n",
    "        \n",
    "        '''\n",
    "        #check accuracy\n",
    "#         if(logs.get('accuracy')>0.85 ):\n",
    "#             #stop if threshold is met\n",
    "#             #print('\\nLoss is lower than 0.4 so cancelling training!')\n",
    "#             print('\\naccuracy threshold is reached so cancelling training!')\n",
    "#             self.model.stop_training =True\n",
    "        if((logs.get('accuracy')>0.95) | (logs.get('loss')<0.35)  ):\n",
    "            #stop if threshold is met\n",
    "            #print('\\nLoss is lower than 0.4 so cancelling training!')\n",
    "            print('\\n threshold is reached so cancelling training!')\n",
    "            self.model.stop_training =True\n",
    "# Instantiate class\n",
    "callbacks= myCallback()"
   ]
  },
  {
   "cell_type": "code",
   "execution_count": 28,
   "id": "71bb9d07",
   "metadata": {},
   "outputs": [],
   "source": [
    "# Define and compile the model \n",
    "model = tf.keras.models.Sequential([\n",
    "    tf.keras.layers.Flatten(input_shape = (28,28)),\n",
    "    tf.keras.layers.Dense(512, activation=tf.nn.relu),\n",
    "    tf.keras.layers.Dense(10, activation=tf.nn.softmax)\n",
    "])\n",
    "\n",
    "# compile\n",
    "model.compile(optimizer=tf.optimizers.Adam(),\n",
    "             loss =\"sparse_categorical_crossentropy\",\n",
    "             metrics =['accuracy'])"
   ]
  },
  {
   "cell_type": "code",
   "execution_count": 29,
   "id": "9f2b95dc",
   "metadata": {},
   "outputs": [
    {
     "name": "stdout",
     "output_type": "stream",
     "text": [
      "Epoch 1/10\n",
      "1875/1875 [==============================] - 8s 4ms/step - loss: 0.4721 - accuracy: 0.8324\n",
      "Epoch 2/10\n",
      "1875/1875 [==============================] - 7s 4ms/step - loss: 0.3569 - accuracy: 0.8689\n",
      "Epoch 3/10\n",
      "1866/1875 [============================>.] - ETA: 0s - loss: 0.3219 - accuracy: 0.8811\n",
      " threshold is reached so cancelling training!\n",
      "1875/1875 [==============================] - 7s 4ms/step - loss: 0.3220 - accuracy: 0.8810\n"
     ]
    },
    {
     "data": {
      "text/plain": [
       "<keras.callbacks.History at 0x221589fd850>"
      ]
     },
     "execution_count": 29,
     "metadata": {},
     "output_type": "execute_result"
    }
   ],
   "source": [
    "## Train the model\n",
    "model.fit(training_images, training_labels, epochs=10, callbacks=[callbacks])"
   ]
  },
  {
   "cell_type": "code",
   "execution_count": null,
   "id": "e4a5dbdb",
   "metadata": {},
   "outputs": [],
   "source": [
    "### challenge modify the code to make the training stop when the accuracy metric exeeds 60%\n"
   ]
  },
  {
   "cell_type": "code",
   "execution_count": null,
   "id": "5098d044",
   "metadata": {},
   "outputs": [],
   "source": []
  }
 ],
 "metadata": {
  "kernelspec": {
   "display_name": "Python 3",
   "language": "python",
   "name": "python3"
  },
  "language_info": {
   "codemirror_mode": {
    "name": "ipython",
    "version": 3
   },
   "file_extension": ".py",
   "mimetype": "text/x-python",
   "name": "python",
   "nbconvert_exporter": "python",
   "pygments_lexer": "ipython3",
   "version": "3.8.8"
  },
  "toc": {
   "base_numbering": 1,
   "nav_menu": {},
   "number_sections": true,
   "sideBar": true,
   "skip_h1_title": false,
   "title_cell": "Table of Contents",
   "title_sidebar": "Contents",
   "toc_cell": false,
   "toc_position": {},
   "toc_section_display": true,
   "toc_window_display": false
  }
 },
 "nbformat": 4,
 "nbformat_minor": 5
}
